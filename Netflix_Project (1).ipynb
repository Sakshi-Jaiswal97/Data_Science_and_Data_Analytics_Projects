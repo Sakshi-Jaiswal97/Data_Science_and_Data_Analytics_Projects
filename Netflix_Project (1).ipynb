{
  "cells": [
    {
      "cell_type": "code",
      "execution_count": null,
      "metadata": {
        "id": "7U8qR1Rx-_aq"
      },
      "outputs": [],
      "source": [
        "#Netflix prize dataset\n",
        "#importing the necessary libraries for importing the dataset in jupyter notebook\n",
        "#Around100M+ ratings 4499 movies 480,000+ users\n",
        "import pandas as pd\n",
        "import numpy as np\n",
        "import matplotlib.pyplot as plt"
      ]
    },
    {
      "cell_type": "code",
      "source": [
        "from google.colab import drive\n",
        "drive.mount('/content/drive')"
      ],
      "metadata": {
        "colab": {
          "base_uri": "https://localhost:8080/"
        },
        "id": "JN4xMbjHnddd",
        "outputId": "24eaa2a9-e0bc-4f2f-b885-e58ef468eabf"
      },
      "execution_count": null,
      "outputs": [
        {
          "output_type": "stream",
          "name": "stdout",
          "text": [
            "Mounted at /content/drive\n"
          ]
        }
      ]
    },
    {
      "cell_type": "code",
      "source": [
        "netflix_dataset1 = pd.read_csv('/content/drive/MyDrive/Netflix csv/combined_data_1 (1).txt')\n",
        "netflix_dataset1.head()"
      ],
      "metadata": {
        "colab": {
          "base_uri": "https://localhost:8080/",
          "height": 304
        },
        "id": "9DgyIPwvlH2m",
        "outputId": "cb1d1bc5-6bd7-479f-ebdf-d7ebc3e95d61"
      },
      "execution_count": null,
      "outputs": [
        {
          "output_type": "error",
          "ename": "FileNotFoundError",
          "evalue": "[Errno 2] No such file or directory: '/content/drive/MyDrive/Netflix csv/combined_data_1 (1).txt'",
          "traceback": [
            "\u001b[0;31m---------------------------------------------------------------------------\u001b[0m",
            "\u001b[0;31mFileNotFoundError\u001b[0m                         Traceback (most recent call last)",
            "\u001b[0;32m<ipython-input-3-b2019e93a838>\u001b[0m in \u001b[0;36m<cell line: 1>\u001b[0;34m()\u001b[0m\n\u001b[0;32m----> 1\u001b[0;31m \u001b[0mnetflix_dataset1\u001b[0m \u001b[0;34m=\u001b[0m \u001b[0mpd\u001b[0m\u001b[0;34m.\u001b[0m\u001b[0mread_csv\u001b[0m\u001b[0;34m(\u001b[0m\u001b[0;34m'/content/drive/MyDrive/Netflix csv/combined_data_1 (1).txt'\u001b[0m\u001b[0;34m)\u001b[0m\u001b[0;34m\u001b[0m\u001b[0;34m\u001b[0m\u001b[0m\n\u001b[0m\u001b[1;32m      2\u001b[0m \u001b[0mnetflix_dataset1\u001b[0m\u001b[0;34m.\u001b[0m\u001b[0mhead\u001b[0m\u001b[0;34m(\u001b[0m\u001b[0;34m)\u001b[0m\u001b[0;34m\u001b[0m\u001b[0;34m\u001b[0m\u001b[0m\n",
            "\u001b[0;32m/usr/local/lib/python3.10/dist-packages/pandas/io/parsers/readers.py\u001b[0m in \u001b[0;36mread_csv\u001b[0;34m(filepath_or_buffer, sep, delimiter, header, names, index_col, usecols, dtype, engine, converters, true_values, false_values, skipinitialspace, skiprows, skipfooter, nrows, na_values, keep_default_na, na_filter, verbose, skip_blank_lines, parse_dates, infer_datetime_format, keep_date_col, date_parser, date_format, dayfirst, cache_dates, iterator, chunksize, compression, thousands, decimal, lineterminator, quotechar, quoting, doublequote, escapechar, comment, encoding, encoding_errors, dialect, on_bad_lines, delim_whitespace, low_memory, memory_map, float_precision, storage_options, dtype_backend)\u001b[0m\n\u001b[1;32m    946\u001b[0m     \u001b[0mkwds\u001b[0m\u001b[0;34m.\u001b[0m\u001b[0mupdate\u001b[0m\u001b[0;34m(\u001b[0m\u001b[0mkwds_defaults\u001b[0m\u001b[0;34m)\u001b[0m\u001b[0;34m\u001b[0m\u001b[0;34m\u001b[0m\u001b[0m\n\u001b[1;32m    947\u001b[0m \u001b[0;34m\u001b[0m\u001b[0m\n\u001b[0;32m--> 948\u001b[0;31m     \u001b[0;32mreturn\u001b[0m \u001b[0m_read\u001b[0m\u001b[0;34m(\u001b[0m\u001b[0mfilepath_or_buffer\u001b[0m\u001b[0;34m,\u001b[0m \u001b[0mkwds\u001b[0m\u001b[0;34m)\u001b[0m\u001b[0;34m\u001b[0m\u001b[0;34m\u001b[0m\u001b[0m\n\u001b[0m\u001b[1;32m    949\u001b[0m \u001b[0;34m\u001b[0m\u001b[0m\n\u001b[1;32m    950\u001b[0m \u001b[0;34m\u001b[0m\u001b[0m\n",
            "\u001b[0;32m/usr/local/lib/python3.10/dist-packages/pandas/io/parsers/readers.py\u001b[0m in \u001b[0;36m_read\u001b[0;34m(filepath_or_buffer, kwds)\u001b[0m\n\u001b[1;32m    609\u001b[0m \u001b[0;34m\u001b[0m\u001b[0m\n\u001b[1;32m    610\u001b[0m     \u001b[0;31m# Create the parser.\u001b[0m\u001b[0;34m\u001b[0m\u001b[0;34m\u001b[0m\u001b[0m\n\u001b[0;32m--> 611\u001b[0;31m     \u001b[0mparser\u001b[0m \u001b[0;34m=\u001b[0m \u001b[0mTextFileReader\u001b[0m\u001b[0;34m(\u001b[0m\u001b[0mfilepath_or_buffer\u001b[0m\u001b[0;34m,\u001b[0m \u001b[0;34m**\u001b[0m\u001b[0mkwds\u001b[0m\u001b[0;34m)\u001b[0m\u001b[0;34m\u001b[0m\u001b[0;34m\u001b[0m\u001b[0m\n\u001b[0m\u001b[1;32m    612\u001b[0m \u001b[0;34m\u001b[0m\u001b[0m\n\u001b[1;32m    613\u001b[0m     \u001b[0;32mif\u001b[0m \u001b[0mchunksize\u001b[0m \u001b[0;32mor\u001b[0m \u001b[0miterator\u001b[0m\u001b[0;34m:\u001b[0m\u001b[0;34m\u001b[0m\u001b[0;34m\u001b[0m\u001b[0m\n",
            "\u001b[0;32m/usr/local/lib/python3.10/dist-packages/pandas/io/parsers/readers.py\u001b[0m in \u001b[0;36m__init__\u001b[0;34m(self, f, engine, **kwds)\u001b[0m\n\u001b[1;32m   1446\u001b[0m \u001b[0;34m\u001b[0m\u001b[0m\n\u001b[1;32m   1447\u001b[0m         \u001b[0mself\u001b[0m\u001b[0;34m.\u001b[0m\u001b[0mhandles\u001b[0m\u001b[0;34m:\u001b[0m \u001b[0mIOHandles\u001b[0m \u001b[0;34m|\u001b[0m \u001b[0;32mNone\u001b[0m \u001b[0;34m=\u001b[0m \u001b[0;32mNone\u001b[0m\u001b[0;34m\u001b[0m\u001b[0;34m\u001b[0m\u001b[0m\n\u001b[0;32m-> 1448\u001b[0;31m         \u001b[0mself\u001b[0m\u001b[0;34m.\u001b[0m\u001b[0m_engine\u001b[0m \u001b[0;34m=\u001b[0m \u001b[0mself\u001b[0m\u001b[0;34m.\u001b[0m\u001b[0m_make_engine\u001b[0m\u001b[0;34m(\u001b[0m\u001b[0mf\u001b[0m\u001b[0;34m,\u001b[0m \u001b[0mself\u001b[0m\u001b[0;34m.\u001b[0m\u001b[0mengine\u001b[0m\u001b[0;34m)\u001b[0m\u001b[0;34m\u001b[0m\u001b[0;34m\u001b[0m\u001b[0m\n\u001b[0m\u001b[1;32m   1449\u001b[0m \u001b[0;34m\u001b[0m\u001b[0m\n\u001b[1;32m   1450\u001b[0m     \u001b[0;32mdef\u001b[0m \u001b[0mclose\u001b[0m\u001b[0;34m(\u001b[0m\u001b[0mself\u001b[0m\u001b[0;34m)\u001b[0m \u001b[0;34m->\u001b[0m \u001b[0;32mNone\u001b[0m\u001b[0;34m:\u001b[0m\u001b[0;34m\u001b[0m\u001b[0;34m\u001b[0m\u001b[0m\n",
            "\u001b[0;32m/usr/local/lib/python3.10/dist-packages/pandas/io/parsers/readers.py\u001b[0m in \u001b[0;36m_make_engine\u001b[0;34m(self, f, engine)\u001b[0m\n\u001b[1;32m   1703\u001b[0m                 \u001b[0;32mif\u001b[0m \u001b[0;34m\"b\"\u001b[0m \u001b[0;32mnot\u001b[0m \u001b[0;32min\u001b[0m \u001b[0mmode\u001b[0m\u001b[0;34m:\u001b[0m\u001b[0;34m\u001b[0m\u001b[0;34m\u001b[0m\u001b[0m\n\u001b[1;32m   1704\u001b[0m                     \u001b[0mmode\u001b[0m \u001b[0;34m+=\u001b[0m \u001b[0;34m\"b\"\u001b[0m\u001b[0;34m\u001b[0m\u001b[0;34m\u001b[0m\u001b[0m\n\u001b[0;32m-> 1705\u001b[0;31m             self.handles = get_handle(\n\u001b[0m\u001b[1;32m   1706\u001b[0m                 \u001b[0mf\u001b[0m\u001b[0;34m,\u001b[0m\u001b[0;34m\u001b[0m\u001b[0;34m\u001b[0m\u001b[0m\n\u001b[1;32m   1707\u001b[0m                 \u001b[0mmode\u001b[0m\u001b[0;34m,\u001b[0m\u001b[0;34m\u001b[0m\u001b[0;34m\u001b[0m\u001b[0m\n",
            "\u001b[0;32m/usr/local/lib/python3.10/dist-packages/pandas/io/common.py\u001b[0m in \u001b[0;36mget_handle\u001b[0;34m(path_or_buf, mode, encoding, compression, memory_map, is_text, errors, storage_options)\u001b[0m\n\u001b[1;32m    861\u001b[0m         \u001b[0;32mif\u001b[0m \u001b[0mioargs\u001b[0m\u001b[0;34m.\u001b[0m\u001b[0mencoding\u001b[0m \u001b[0;32mand\u001b[0m \u001b[0;34m\"b\"\u001b[0m \u001b[0;32mnot\u001b[0m \u001b[0;32min\u001b[0m \u001b[0mioargs\u001b[0m\u001b[0;34m.\u001b[0m\u001b[0mmode\u001b[0m\u001b[0;34m:\u001b[0m\u001b[0;34m\u001b[0m\u001b[0;34m\u001b[0m\u001b[0m\n\u001b[1;32m    862\u001b[0m             \u001b[0;31m# Encoding\u001b[0m\u001b[0;34m\u001b[0m\u001b[0;34m\u001b[0m\u001b[0m\n\u001b[0;32m--> 863\u001b[0;31m             handle = open(\n\u001b[0m\u001b[1;32m    864\u001b[0m                 \u001b[0mhandle\u001b[0m\u001b[0;34m,\u001b[0m\u001b[0;34m\u001b[0m\u001b[0;34m\u001b[0m\u001b[0m\n\u001b[1;32m    865\u001b[0m                 \u001b[0mioargs\u001b[0m\u001b[0;34m.\u001b[0m\u001b[0mmode\u001b[0m\u001b[0;34m,\u001b[0m\u001b[0;34m\u001b[0m\u001b[0;34m\u001b[0m\u001b[0m\n",
            "\u001b[0;31mFileNotFoundError\u001b[0m: [Errno 2] No such file or directory: '/content/drive/MyDrive/Netflix csv/combined_data_1 (1).txt'"
          ]
        }
      ]
    },
    {
      "cell_type": "code",
      "execution_count": null,
      "metadata": {
        "id": "tXwTEPVv-_as"
      },
      "outputs": [],
      "source": [
        "# Reading dataset file\n",
        "netflix_dataset = pd.read_csv('/content/drive/MyDrive/Netflix csv/combined_data_1 (1).txt',header = None, names = ['Cust_Id', 'Rating'], usecols = [0,1])\n",
        "netflix_dataset.head()\n"
      ]
    },
    {
      "cell_type": "code",
      "source": [
        "netflix_dataset"
      ],
      "metadata": {
        "id": "OxqQEvbrWL9j"
      },
      "execution_count": null,
      "outputs": []
    },
    {
      "cell_type": "code",
      "execution_count": null,
      "metadata": {
        "id": "TQkE0WPuipnz"
      },
      "outputs": [],
      "source": []
    },
    {
      "cell_type": "code",
      "execution_count": null,
      "metadata": {
        "id": "nejnJ484-_at"
      },
      "outputs": [],
      "source": [
        "netflix_dataset.tail()"
      ]
    },
    {
      "cell_type": "code",
      "execution_count": null,
      "metadata": {
        "id": "un9i0h6y-_au"
      },
      "outputs": [],
      "source": [
        "netflix_dataset.dtypes"
      ]
    },
    {
      "cell_type": "code",
      "source": [
        "netflix_dataset.isnull()"
      ],
      "metadata": {
        "id": "igCKrVySnVfC"
      },
      "execution_count": null,
      "outputs": []
    },
    {
      "cell_type": "code",
      "execution_count": null,
      "metadata": {
        "id": "qWwjIooGNC30"
      },
      "outputs": [],
      "source": [
        "netflix_dataset.isnull().sum()"
      ]
    },
    {
      "cell_type": "code",
      "execution_count": null,
      "metadata": {
        "id": "MhvKyaHd-_av"
      },
      "outputs": [],
      "source": [
        "# netflix_dataset['Rating']=netflix_dataset['Rating'].astype(float)"
      ]
    },
    {
      "cell_type": "code",
      "execution_count": null,
      "metadata": {
        "id": "ZypLGxet-_av"
      },
      "outputs": [],
      "source": [
        "netflix_dataset.dtypes"
      ]
    },
    {
      "cell_type": "code",
      "execution_count": null,
      "metadata": {
        "id": "_3L_ILFt-_aw"
      },
      "outputs": [],
      "source": [
        "netflix_dataset.shape"
      ]
    },
    {
      "cell_type": "code",
      "execution_count": null,
      "metadata": {
        "id": "kWRiMiU--_ay"
      },
      "outputs": [],
      "source": [
        "#get the movie count with NaN values\n",
        "movie_count=netflix_dataset.isnull().sum()\n",
        "movie_count=movie_count[\"Rating\"]"
      ]
    },
    {
      "cell_type": "code",
      "source": [
        "movie_count"
      ],
      "metadata": {
        "id": "Doyo3LX34Yov"
      },
      "execution_count": null,
      "outputs": []
    },
    {
      "cell_type": "code",
      "execution_count": null,
      "metadata": {
        "id": "Uof2UpvZ-_ay"
      },
      "outputs": [],
      "source": [
        "#to calculate how many customers we are having in the dataset\n",
        "customer_count=netflix_dataset['Cust_Id'].nunique()"
      ]
    },
    {
      "cell_type": "code",
      "execution_count": null,
      "metadata": {
        "id": "mNBzXFly-_az"
      },
      "outputs": [],
      "source": [
        "customer_count # this also include unique movie id's"
      ]
    },
    {
      "cell_type": "code",
      "execution_count": null,
      "metadata": {
        "id": "WurjX2Y3-_az"
      },
      "outputs": [],
      "source": [
        "#without NaN values\n",
        "customer_count=customer_count-movie_count\n",
        "customer_count"
      ]
    },
    {
      "cell_type": "code",
      "source": [
        "netflix_dataset['Cust_Id'].count() # these are the number of times ratings given"
      ],
      "metadata": {
        "id": "H0CCa5f5B6hZ"
      },
      "execution_count": null,
      "outputs": []
    },
    {
      "cell_type": "code",
      "execution_count": null,
      "metadata": {
        "id": "jThYH-kK-_az"
      },
      "outputs": [],
      "source": [
        "#get the total number of ratings given by the customers\n",
        "rating_count=netflix_dataset['Cust_Id'].count()-movie_count\n",
        "rating_count"
      ]
    },
    {
      "cell_type": "code",
      "source": [
        "#To find out how many people have rated the movies as 1, 2, 3,4,5 stars ratings to the movies\n",
        "# 1st method\n",
        "netflix_dataset[\"Rating\"].value_counts()"
      ],
      "metadata": {
        "id": "sUqO3XiuCXlI"
      },
      "execution_count": null,
      "outputs": []
    },
    {
      "cell_type": "code",
      "source": [
        "#To find out how many people have rated the movies as 1, 2, 3,4,5 stars ratings to the movies\n",
        "# 2nd method\n",
        "p = netflix_dataset.groupby('Rating')['Rating'].count()\n",
        "p"
      ],
      "metadata": {
        "id": "wHRBlGp3CoY6"
      },
      "execution_count": null,
      "outputs": []
    },
    {
      "cell_type": "code",
      "execution_count": null,
      "metadata": {
        "id": "OMIo-78YYOmc"
      },
      "outputs": [],
      "source": [
        "#To find out how many people have rated the movies as 1, 2, 3,4,5 stars ratings to the movies\n",
        "# 3rd method\n",
        "stars=netflix_dataset.groupby('Rating')['Rating'].agg(['count'])"
      ]
    },
    {
      "cell_type": "code",
      "execution_count": null,
      "metadata": {
        "id": "dhSLXF6zX-bp"
      },
      "outputs": [],
      "source": [
        "stars"
      ]
    },
    {
      "cell_type": "code",
      "execution_count": null,
      "metadata": {
        "id": "-o191CZK-_a0"
      },
      "outputs": [],
      "source": [
        "ax=stars.plot(kind='barh',figsize=(15,10))\n",
        "plt.title(f'Total pool: {movie_count} Movies, {customer_count} Customers, {rating_count} ratings given', fontsize=20)\n",
        "plt.grid(True)"
      ]
    },
    {
      "cell_type": "code",
      "source": [
        "pd.isnull(netflix_dataset.Rating)"
      ],
      "metadata": {
        "id": "opT8M8qBoFhL"
      },
      "execution_count": null,
      "outputs": []
    },
    {
      "cell_type": "code",
      "execution_count": null,
      "metadata": {
        "id": "hz1ummB_-_a0"
      },
      "outputs": [],
      "source": [
        "#add another column that will have movie id\n",
        "#first of all we will be calculating how many null values we are having in the ratings column\n",
        "df_nan=pd.DataFrame(pd.isnull(netflix_dataset.Rating))"
      ]
    },
    {
      "cell_type": "code",
      "execution_count": null,
      "metadata": {
        "id": "ZJOsW9z_-_a0"
      },
      "outputs": [],
      "source": [
        "df_nan"
      ]
    },
    {
      "cell_type": "code",
      "execution_count": null,
      "metadata": {
        "id": "hxpTM_Yx-_a1"
      },
      "outputs": [],
      "source": [
        "df_nan=df_nan[df_nan['Rating']==True]\n",
        "df_nan"
      ]
    },
    {
      "cell_type": "code",
      "execution_count": null,
      "metadata": {
        "id": "Oz8sHr1b-_a1"
      },
      "outputs": [],
      "source": [
        "df_nan.shape"
      ]
    },
    {
      "cell_type": "code",
      "execution_count": null,
      "metadata": {
        "id": "ZnWtAJZ7-_a1"
      },
      "outputs": [],
      "source": [
        "df_nan.head()"
      ]
    },
    {
      "cell_type": "code",
      "execution_count": null,
      "metadata": {
        "id": "5X-KBPf_ANPe"
      },
      "outputs": [],
      "source": [
        "df_nan.tail()"
      ]
    },
    {
      "cell_type": "code",
      "execution_count": null,
      "metadata": {
        "id": "8BY_bcJC-_a1"
      },
      "outputs": [],
      "source": [
        "#now we will reset the index as the column\n",
        "df_nan=df_nan.reset_index()"
      ]
    },
    {
      "cell_type": "code",
      "execution_count": null,
      "metadata": {
        "id": "_NC5KPs6-_a2"
      },
      "outputs": [],
      "source": [
        "df_nan"
      ]
    },
    {
      "cell_type": "code",
      "source": [
        "df_nan['index'][0:-1]#will extract all the records from the index column except for the last index-- 4498"
      ],
      "metadata": {
        "id": "GUzviPfWEZYU"
      },
      "execution_count": null,
      "outputs": []
    },
    {
      "cell_type": "code",
      "source": [
        "df_nan['index'][1:]#this sytax will extract records from the index column from the 1st index"
      ],
      "metadata": {
        "id": "dz0M1pTXEoX0"
      },
      "execution_count": null,
      "outputs": []
    },
    {
      "cell_type": "code",
      "source": [
        "np.full((2,4), '2.0') #working of full function"
      ],
      "metadata": {
        "id": "XVN2T1FCEtFk"
      },
      "execution_count": null,
      "outputs": []
    },
    {
      "cell_type": "code",
      "source": [
        "#working\n",
        "x=zip(df_nan['index'][1:], df_nan['index'][:-1])\n",
        "x"
      ],
      "metadata": {
        "id": "nO69ca0OF5Dc"
      },
      "execution_count": null,
      "outputs": []
    },
    {
      "cell_type": "code",
      "source": [
        "tuple(x)"
      ],
      "metadata": {
        "id": "Nxvb_QtIF90M"
      },
      "execution_count": null,
      "outputs": []
    },
    {
      "cell_type": "code",
      "source": [
        "694-548-1 # for movie 2"
      ],
      "metadata": {
        "id": "ZBCUIYZxKnY1"
      },
      "execution_count": null,
      "outputs": []
    },
    {
      "cell_type": "code",
      "source": [
        "temp=np.full((1,145), 2)\n",
        "print(temp)"
      ],
      "metadata": {
        "id": "yd1Y-Y88GFw0"
      },
      "execution_count": null,
      "outputs": []
    },
    {
      "cell_type": "code",
      "execution_count": null,
      "metadata": {
        "id": "CQ1fBQIW-_a2"
      },
      "outputs": [],
      "source": [
        "#now we will create a numpy array that will contain 1 from values 0 to 547, 2 from 548 to 693 and so on\n",
        "movie_np=[]\n",
        "movie_id=1\n",
        "for i, j in zip(df_nan['index'][1:], df_nan['index'][:-1]):\n",
        "    temp=np.full((1, i-j-1), movie_id)\n",
        "    movie_np=np.append(movie_np, temp)\n",
        "    movie_id+=1\n",
        "\n",
        "print(movie_np)\n",
        "\n",
        "#account for last record and corresponding length\n",
        "#numpy approach\n",
        "last_record=np.full((1, len(netflix_dataset)-df_nan.iloc[-1,0]-1) , movie_id)#movie id will be 4499\n",
        "movie_np=np.append(movie_np, last_record)"
      ]
    },
    {
      "cell_type": "code",
      "source": [
        "# example code for last record\n",
        "import pandas as pd\n",
        "\n",
        "# Create a dictionary with data\n",
        "data = {\n",
        "    'index': [10, 30, 50],\n",
        "    'B': [20, 40, 60]\n",
        "}\n",
        "\n",
        "# Create the DataFrame\n",
        "df_nan1 = pd.DataFrame(data)\n",
        "\n",
        "# Print the DataFrame\n",
        "print(df_nan1)\n"
      ],
      "metadata": {
        "id": "zpvW2Kyli906"
      },
      "execution_count": null,
      "outputs": []
    },
    {
      "cell_type": "code",
      "source": [
        "df_nan1.iloc[-1, 0]"
      ],
      "metadata": {
        "id": "gEJXr77NjDpR"
      },
      "execution_count": null,
      "outputs": []
    },
    {
      "cell_type": "code",
      "execution_count": null,
      "metadata": {
        "id": "LB5x40Uc-_a3"
      },
      "outputs": [],
      "source": [
        "netflix_dataset=netflix_dataset[pd.notnull(netflix_dataset['Rating'])] # including all not null values of ratings coolumn\n",
        "\n",
        "netflix_dataset['Movie_Id'] = movie_np.astype(int)\n",
        "netflix_dataset['Cust_Id']=netflix_dataset['Cust_Id'].astype(int)   # its a integer column\n",
        "print(\"Now the dataset will look like: \")\n",
        "netflix_dataset"
      ]
    },
    {
      "cell_type": "code",
      "execution_count": null,
      "metadata": {
        "id": "j15ack4328Cl"
      },
      "outputs": [],
      "source": [
        "netflix_dataset.tail()"
      ]
    },
    {
      "cell_type": "code",
      "execution_count": null,
      "metadata": {
        "id": "aoHe9DDn-_a3"
      },
      "outputs": [],
      "source": [
        "#now we will remove all the users that have rated less movies and\n",
        "#also all those movies that has been rated less in numbers\n"
      ]
    },
    {
      "cell_type": "code",
      "execution_count": null,
      "metadata": {
        "id": "vjWWZSZe-_a4"
      },
      "outputs": [],
      "source": [
        "netflix_dataset"
      ]
    },
    {
      "cell_type": "code",
      "execution_count": null,
      "metadata": {
        "id": "9IZrnDVM-_a4"
      },
      "outputs": [],
      "source": [
        "dataset_movie_summary=netflix_dataset.groupby('Movie_Id')['Rating'].agg([\"count\"])"
      ]
    },
    {
      "cell_type": "code",
      "execution_count": null,
      "metadata": {
        "id": "h2lKrdo_-_a4"
      },
      "outputs": [],
      "source": [
        "dataset_movie_summary"
      ]
    },
    {
      "cell_type": "code",
      "execution_count": null,
      "metadata": {
        "id": "PRD54-6Q-_a4"
      },
      "outputs": [],
      "source": [
        "# Benchmark"
      ]
    },
    {
      "cell_type": "code",
      "execution_count": null,
      "metadata": {
        "id": "5Y9yT-qWdp5v"
      },
      "outputs": [],
      "source": [
        "dataset_movie_summary[\"count\"].quantile(0.7)"
      ]
    },
    {
      "cell_type": "code",
      "execution_count": null,
      "metadata": {
        "id": "sEsJBCeW-_a4"
      },
      "outputs": [],
      "source": [
        "#now we will create a benchmark\n",
        "movie_benchmark=round(dataset_movie_summary['count'].quantile(0.7),0)\n",
        "movie_benchmark"
      ]
    },
    {
      "cell_type": "code",
      "execution_count": null,
      "metadata": {
        "id": "GWY3fabl-_a4"
      },
      "outputs": [],
      "source": [
        "dataset_movie_summary['count']"
      ]
    },
    {
      "cell_type": "code",
      "execution_count": null,
      "metadata": {
        "id": "5-JVSZ2--_a5"
      },
      "outputs": [],
      "source": [
        "drop_movie_list=dataset_movie_summary[dataset_movie_summary['count'] < movie_benchmark].index\n",
        "drop_movie_list"
      ]
    },
    {
      "cell_type": "code",
      "source": [
        "len(drop_movie_list)\n"
      ],
      "metadata": {
        "id": "j6FUKU3ps8oA"
      },
      "execution_count": null,
      "outputs": []
    },
    {
      "cell_type": "code",
      "source": [],
      "metadata": {
        "id": "oyFylrtts8r2"
      },
      "execution_count": null,
      "outputs": []
    },
    {
      "cell_type": "code",
      "execution_count": null,
      "metadata": {
        "id": "sW-acIHg-_a5"
      },
      "outputs": [],
      "source": [
        "#now we will remove all the users that are in-active\n",
        "dataset_cust_summary=netflix_dataset.groupby('Cust_Id')['Rating'].agg([\"count\"])\n",
        "dataset_cust_summary"
      ]
    },
    {
      "cell_type": "code",
      "execution_count": null,
      "metadata": {
        "id": "09kONRsW-_a5"
      },
      "outputs": [],
      "source": []
    },
    {
      "cell_type": "code",
      "execution_count": null,
      "metadata": {
        "id": "4rLVS6U7-_a5"
      },
      "outputs": [],
      "source": [
        "cust_benchmark=round(dataset_cust_summary['count'].quantile(0.7),0)\n",
        "cust_benchmark"
      ]
    },
    {
      "cell_type": "code",
      "execution_count": null,
      "metadata": {
        "id": "yRcTHqRt-_a6"
      },
      "outputs": [],
      "source": [
        "drop_cust_list=dataset_cust_summary[dataset_cust_summary['count'] < cust_benchmark].index\n",
        "drop_cust_list"
      ]
    },
    {
      "cell_type": "code",
      "source": [
        "len(drop_cust_list)"
      ],
      "metadata": {
        "id": "B8ucc3xNt8YI"
      },
      "execution_count": null,
      "outputs": []
    },
    {
      "cell_type": "code",
      "execution_count": null,
      "metadata": {
        "id": "SH5_FCry-_a6"
      },
      "outputs": [],
      "source": [
        "#we will remove all the customers and movies that are below the benchmark\n",
        "print('The original dataframe has: ', netflix_dataset.shape, 'shape')"
      ]
    },
    {
      "cell_type": "code",
      "source": [
        "netflix_dataset['Movie_Id'].isin(drop_movie_list)"
      ],
      "metadata": {
        "id": "3SEbepUkKe3u"
      },
      "execution_count": null,
      "outputs": []
    },
    {
      "cell_type": "code",
      "execution_count": null,
      "metadata": {
        "id": "3fYXMoX0-_a6"
      },
      "outputs": [],
      "source": [
        "netflix_dataset=netflix_dataset[~netflix_dataset['Movie_Id'].isin(drop_movie_list)] # ~ means NOT\n",
        "netflix_dataset=netflix_dataset[~netflix_dataset['Cust_Id'].isin(drop_cust_list)]\n",
        "print('After the triming, the shape is: {}'.format(netflix_dataset.shape))"
      ]
    },
    {
      "cell_type": "code",
      "execution_count": null,
      "metadata": {
        "id": "ynJaxtKp-dOD"
      },
      "outputs": [],
      "source": []
    },
    {
      "cell_type": "code",
      "execution_count": null,
      "metadata": {
        "id": "i76_Akf5-_a6"
      },
      "outputs": [],
      "source": [
        "netflix_dataset.head()"
      ]
    },
    {
      "cell_type": "code",
      "execution_count": null,
      "metadata": {
        "id": "MUvAc_l9gzf1"
      },
      "outputs": [],
      "source": [
        "import pandas as pd"
      ]
    },
    {
      "cell_type": "code",
      "execution_count": null,
      "metadata": {
        "id": "9h_AVCr--_a7"
      },
      "outputs": [],
      "source": [
        "df_title = pd.read_csv(\"/content/drive/MyDrive/Netflix csv/movie_titles _1_ (2).csv\",  encoding='ISO-8859-1', header=None, usecols=[0,1,2], names=['Movie_Id','Year','Name' ])\n",
        "\n",
        "df_title.set_index('Movie_Id', inplace=True)"
      ]
    },
    {
      "cell_type": "code",
      "execution_count": null,
      "metadata": {
        "id": "7ofp3CHA-_a7"
      },
      "outputs": [],
      "source": [
        "df_title.head(10)"
      ]
    },
    {
      "cell_type": "code",
      "execution_count": null,
      "metadata": {
        "id": "Tmz7jice_7WO"
      },
      "outputs": [],
      "source": [
        "#df_title.iloc[:4499,:]"
      ]
    },
    {
      "cell_type": "code",
      "execution_count": null,
      "metadata": {
        "id": "cy-9wWzkBOlo"
      },
      "outputs": [],
      "source": [
        "!pip install scikit-surprise"
      ]
    },
    {
      "cell_type": "code",
      "execution_count": null,
      "metadata": {
        "id": "iL0RnWR8-_a7",
        "scrolled": true
      },
      "outputs": [],
      "source": [
        "#model building\n",
        "\n",
        "import math\n",
        "import seaborn as sns\n",
        "from surprise import Reader, Dataset, SVD  # Singular value decomposition\n",
        "from surprise.model_selection import cross_validate"
      ]
    },
    {
      "cell_type": "code",
      "source": [
        "# SVD performs dimensionality reduction for recommendation"
      ],
      "metadata": {
        "id": "YWauzP6sX9q4"
      },
      "execution_count": null,
      "outputs": []
    },
    {
      "cell_type": "code",
      "execution_count": null,
      "metadata": {
        "id": "HF5jSYrlqh2s"
      },
      "outputs": [],
      "source": [
        "#!pip install scikit-surprise"
      ]
    },
    {
      "cell_type": "code",
      "execution_count": null,
      "metadata": {
        "id": "OpjUcFU8-_a8"
      },
      "outputs": [],
      "source": [
        "#help us to read the dataset for svd algo\n",
        "reader=Reader()\n",
        "\n",
        "# it will convert data frame into Pivot tables where columns will be movie ids and rows will be customers id"
      ]
    },
    {
      "cell_type": "code",
      "execution_count": null,
      "metadata": {
        "id": "NNeCQDO3-_a8"
      },
      "outputs": [],
      "source": [
        "#we only work with top 100K rows for quick runtime\n",
        "data=Dataset.load_from_df(netflix_dataset[['Cust_Id','Movie_Id','Rating']][:100000], reader)"
      ]
    },
    {
      "cell_type": "code",
      "execution_count": null,
      "metadata": {
        "id": "6qpxJdDpy9cH"
      },
      "outputs": [],
      "source": [
        "data"
      ]
    },
    {
      "cell_type": "code",
      "execution_count": null,
      "metadata": {
        "id": "6-KslE4J-_a8"
      },
      "outputs": [],
      "source": [
        "model=SVD()\n",
        "# cross_validate(svd, data, measures=['RMSE','MAE'], cv=3)\n",
        "#for 1st fold- 1,2,3,4,5"
      ]
    },
    {
      "cell_type": "code",
      "source": [
        "cross_validate(model, data, measures=['RMSE','MAE'], cv=4)"
      ],
      "metadata": {
        "id": "AQNDz0_POW_2"
      },
      "execution_count": null,
      "outputs": []
    },
    {
      "cell_type": "code",
      "execution_count": null,
      "metadata": {
        "id": "NVpTPH3V-_a8"
      },
      "outputs": [],
      "source": [
        "netflix_dataset.head()"
      ]
    },
    {
      "cell_type": "code",
      "source": [],
      "metadata": {
        "id": "EwSsvWeiOWHC"
      },
      "execution_count": null,
      "outputs": []
    },
    {
      "cell_type": "code",
      "source": [
        "# netflix_dataset['Cust_Id']=netflix_dataset['Cust_Id'].astype(int)"
      ],
      "metadata": {
        "id": "CrRf4IvGpvu0"
      },
      "execution_count": null,
      "outputs": []
    },
    {
      "cell_type": "code",
      "execution_count": null,
      "metadata": {
        "id": "oKHYSwvM-_a9"
      },
      "outputs": [],
      "source": [
        "#so first we take user 1331154 and we try to recommend some movies based on the past data\n",
        "#He rated so many movies with 5 *\n",
        "dataset_1331154=netflix_dataset[(netflix_dataset['Cust_Id'] ==1331154)& (netflix_dataset['Rating']==5)]\n",
        "dataset_1331154"
      ]
    },
    {
      "cell_type": "code",
      "execution_count": null,
      "metadata": {
        "id": "3_yFuPtxEOtM"
      },
      "outputs": [],
      "source": [
        "df_title"
      ]
    },
    {
      "cell_type": "code",
      "execution_count": null,
      "metadata": {
        "id": "FzZGhSfj-_a9"
      },
      "outputs": [],
      "source": [
        "#now we will build the recommendation algorithm\n",
        "#first we will make a shallow copy of the movie_titles.csv file so that we can change\n",
        "#the values in the copied dataset, not in the actual dataset\n",
        "\n",
        "user_1331154=df_title.copy()\n",
        "user_1331154"
      ]
    },
    {
      "cell_type": "code",
      "execution_count": null,
      "metadata": {
        "id": "OheANb_1-_a9"
      },
      "outputs": [],
      "source": [
        "user_1331154=user_1331154.reset_index()\n",
        "user_1331154"
      ]
    },
    {
      "cell_type": "code",
      "execution_count": null,
      "metadata": {
        "id": "NwD1NFaq-_a9"
      },
      "outputs": [],
      "source": [
        "user_1331154=user_1331154[~user_1331154['Movie_Id'].isin(drop_movie_list)]\n",
        "user_1331154"
      ]
    },
    {
      "cell_type": "code",
      "execution_count": null,
      "metadata": {
        "id": "gPiOl200-_a-"
      },
      "outputs": [],
      "source": [
        "user_1331154['Estimate_Score']=user_1331154['Movie_Id'].apply(lambda x: model.predict(1331154, x).est)\n"
      ]
    },
    {
      "cell_type": "code",
      "source": [
        "user_1331154"
      ],
      "metadata": {
        "id": "JwPy3BQLRu8n"
      },
      "execution_count": null,
      "outputs": []
    },
    {
      "cell_type": "code",
      "execution_count": null,
      "metadata": {
        "id": "zSKBQdDm-_a-"
      },
      "outputs": [],
      "source": [
        "user_1331154=user_1331154.sort_values('Estimate_Score',ascending=False)\n",
        "print(user_1331154)"
      ]
    },
    {
      "cell_type": "code",
      "source": [],
      "metadata": {
        "id": "ifyHIrtB-gK8"
      },
      "execution_count": null,
      "outputs": []
    },
    {
      "cell_type": "code",
      "execution_count": null,
      "metadata": {
        "id": "UpqOVfmZFYYG"
      },
      "outputs": [],
      "source": []
    },
    {
      "cell_type": "code",
      "source": [
        "\n",
        "\n"
      ],
      "metadata": {
        "id": "IGd3slhC6fEt"
      },
      "execution_count": null,
      "outputs": []
    },
    {
      "cell_type": "code",
      "source": [],
      "metadata": {
        "id": "s6qo9fkHhQJj"
      },
      "execution_count": null,
      "outputs": []
    }
  ],
  "metadata": {
    "colab": {
      "provenance": []
    },
    "kernelspec": {
      "display_name": "Python 3 (ipykernel)",
      "language": "python",
      "name": "python3"
    },
    "language_info": {
      "codemirror_mode": {
        "name": "ipython",
        "version": 3
      },
      "file_extension": ".py",
      "mimetype": "text/x-python",
      "name": "python",
      "nbconvert_exporter": "python",
      "pygments_lexer": "ipython3",
      "version": "3.9.12"
    }
  },
  "nbformat": 4,
  "nbformat_minor": 0
}